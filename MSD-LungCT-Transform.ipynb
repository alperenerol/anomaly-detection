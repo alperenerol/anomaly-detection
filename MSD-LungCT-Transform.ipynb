{
 "cells": [
  {
   "cell_type": "code",
   "execution_count": null,
   "id": "ac15ddb1-9243-4079-b1c4-cf727c152fbd",
   "metadata": {},
   "outputs": [],
   "source": [
    "# Alperen Erol - 200051583 - Unsupervised Anomaly Detection on Medical Images"
   ]
  },
  {
   "cell_type": "code",
   "execution_count": null,
   "id": "4c6e85b0-f37d-4d3d-8cfe-8668771588c4",
   "metadata": {},
   "outputs": [],
   "source": [
    "# Notebook to Transform 3D DecathlonDataset to 2D Normal/Abnormal Images "
   ]
  },
  {
   "cell_type": "code",
   "execution_count": null,
   "id": "7dbb0c71-07d7-461e-bb06-729bff149a1d",
   "metadata": {},
   "outputs": [],
   "source": [
    "# Opening json file to get more info about dataset"
   ]
  },
  {
   "cell_type": "code",
   "execution_count": null,
   "id": "464a5340-553a-4b8b-95a0-e663f96b5a38",
   "metadata": {},
   "outputs": [],
   "source": [
    "import json\n",
    "with open('dataset.json') as json_file:     \n",
    "  json_data = json.load(json_file)\n",
    "\n",
    "formatted_data = json.dumps(json_data, indent=4)\n",
    "print(formatted_data)\n",
    "\n",
    "training_images_labels_paths = json_data[\"training\"]"
   ]
  },
  {
   "cell_type": "code",
   "execution_count": null,
   "id": "f16b9eb0-231f-475e-8cca-dde4e4d21389",
   "metadata": {},
   "outputs": [],
   "source": [
    "# Transform 3D DecathlonDataset to 2D Normal/Abnormal Images"
   ]
  },
  {
   "cell_type": "code",
   "execution_count": null,
   "id": "d3e68b34-763c-4ca1-9163-b813d1b886e4",
   "metadata": {},
   "outputs": [],
   "source": [
    "import numpy as np\n",
    "import nibabel as nib\n",
    "import os\n",
    "\n",
    "# Create directories for normal and abnormal slices\n",
    "if not os.path.exists('normal_slices_training'):\n",
    "    os.makedirs('normal_slices_training')\n",
    "    \n",
    "if not os.path.exists('abnormal_slices'):\n",
    "    os.makedirs('abnormal_slices')\n",
    "\n",
    "# Iterate through each 3D image in the dataset\n",
    "for item in training_images_labels_paths:\n",
    "    image_path = item['image']\n",
    "    label_path = item['label']\n",
    "    \n",
    "    # Extract the subject number from the image path\n",
    "    subject_number = os.path.basename(image_path).split('_')[1].split('.')[0]\n",
    "    \n",
    "    # Load the 3D image and its corresponding label\n",
    "    img = nib.load(image_path).get_fdata()\n",
    "    label = nib.load(label_path).get_fdata()\n",
    "    \n",
    "    # Iterate through each slice\n",
    "    for slice_Number in range(img.shape[2]):\n",
    "        slice_img_data = img[:,:,slice_Number]\n",
    "        slice_label_data = label[:,:,slice_Number]\n",
    "        \n",
    "        # Check if the label slice has any non-zero values\n",
    "        if np.any(slice_label_data):\n",
    "            # Save the slices as abnormal\n",
    "            np.savez(f'abnormal_slices/lung_{subject_number}_{slice_Number}.npz', image=slice_img_data, label=slice_label_data)\n",
    "        else:\n",
    "            # Save the slices as normal\n",
    "            np.savez(f'normal_slices_training/lung_{subject_number}_{slice_Number}.npz', image=slice_img_data, label=slice_label_data)\n"
   ]
  }
 ],
 "metadata": {
  "kernelspec": {
   "display_name": "med_image_seg",
   "language": "python",
   "name": "med_image_seg"
  },
  "language_info": {
   "codemirror_mode": {
    "name": "ipython",
    "version": 3
   },
   "file_extension": ".py",
   "mimetype": "text/x-python",
   "name": "python",
   "nbconvert_exporter": "python",
   "pygments_lexer": "ipython3",
   "version": "3.8.17"
  }
 },
 "nbformat": 4,
 "nbformat_minor": 5
}
